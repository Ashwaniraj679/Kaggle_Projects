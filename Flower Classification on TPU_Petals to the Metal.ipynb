{
 "cells": [
  {
   "cell_type": "markdown",
   "id": "53290c1b",
   "metadata": {
    "papermill": {
     "duration": 0.005418,
     "end_time": "2023-10-12T13:26:04.003020",
     "exception": false,
     "start_time": "2023-10-12T13:26:03.997602",
     "status": "completed"
    },
    "tags": []
   },
   "source": [
    "# Importing all the Requirments"
   ]
  },
  {
   "cell_type": "code",
   "execution_count": 1,
   "id": "91e44792",
   "metadata": {
    "_cell_guid": "b1076dfc-b9ad-4769-8c92-a6c4dae69d19",
    "_uuid": "8f2839f25d086af736a60e9eeb907d3b93b6e0e5",
    "execution": {
     "iopub.execute_input": "2023-10-12T13:26:04.013595Z",
     "iopub.status.busy": "2023-10-12T13:26:04.012870Z",
     "iopub.status.idle": "2023-10-12T13:26:47.998181Z",
     "shell.execute_reply": "2023-10-12T13:26:47.996907Z"
    },
    "papermill": {
     "duration": 43.993222,
     "end_time": "2023-10-12T13:26:48.000712",
     "exception": false,
     "start_time": "2023-10-12T13:26:04.007490",
     "status": "completed"
    },
    "tags": []
   },
   "outputs": [
    {
     "name": "stderr",
     "output_type": "stream",
     "text": [
      "D1012 13:26:37.183912074      13 config.cc:119]                        gRPC EXPERIMENT tcp_frame_size_tuning               OFF (default:OFF)\n",
      "D1012 13:26:37.183932580      13 config.cc:119]                        gRPC EXPERIMENT tcp_rcv_lowat                       OFF (default:OFF)\n",
      "D1012 13:26:37.183935909      13 config.cc:119]                        gRPC EXPERIMENT peer_state_based_framing            OFF (default:OFF)\n",
      "D1012 13:26:37.183938579      13 config.cc:119]                        gRPC EXPERIMENT flow_control_fixes                  ON  (default:ON)\n",
      "D1012 13:26:37.183940891      13 config.cc:119]                        gRPC EXPERIMENT memory_pressure_controller          OFF (default:OFF)\n",
      "D1012 13:26:37.183943561      13 config.cc:119]                        gRPC EXPERIMENT unconstrained_max_quota_buffer_size OFF (default:OFF)\n",
      "D1012 13:26:37.183946045      13 config.cc:119]                        gRPC EXPERIMENT new_hpack_huffman_decoder           ON  (default:ON)\n",
      "D1012 13:26:37.183965688      13 config.cc:119]                        gRPC EXPERIMENT event_engine_client                 OFF (default:OFF)\n",
      "D1012 13:26:37.183968471      13 config.cc:119]                        gRPC EXPERIMENT monitoring_experiment               ON  (default:ON)\n",
      "D1012 13:26:37.183971362      13 config.cc:119]                        gRPC EXPERIMENT promise_based_client_call           OFF (default:OFF)\n",
      "D1012 13:26:37.183973873      13 config.cc:119]                        gRPC EXPERIMENT free_large_allocator                OFF (default:OFF)\n",
      "D1012 13:26:37.183976240      13 config.cc:119]                        gRPC EXPERIMENT promise_based_server_call           OFF (default:OFF)\n",
      "D1012 13:26:37.183996029      13 config.cc:119]                        gRPC EXPERIMENT transport_supplies_client_latency   OFF (default:OFF)\n",
      "D1012 13:26:37.183998866      13 config.cc:119]                        gRPC EXPERIMENT event_engine_listener               OFF (default:OFF)\n",
      "I1012 13:26:37.184195515      13 ev_epoll1_linux.cc:122]               grpc epoll fd: 58\n",
      "D1012 13:26:37.184206455      13 ev_posix.cc:144]                      Using polling engine: epoll1\n",
      "D1012 13:26:37.184269835      13 dns_resolver_ares.cc:822]             Using ares dns resolver\n",
      "D1012 13:26:37.184687822      13 lb_policy_registry.cc:46]             registering LB policy factory for \"priority_experimental\"\n",
      "D1012 13:26:37.184698946      13 lb_policy_registry.cc:46]             registering LB policy factory for \"outlier_detection_experimental\"\n",
      "D1012 13:26:37.184702247      13 lb_policy_registry.cc:46]             registering LB policy factory for \"weighted_target_experimental\"\n",
      "D1012 13:26:37.184705142      13 lb_policy_registry.cc:46]             registering LB policy factory for \"pick_first\"\n",
      "D1012 13:26:37.184707897      13 lb_policy_registry.cc:46]             registering LB policy factory for \"round_robin\"\n",
      "D1012 13:26:37.184710695      13 lb_policy_registry.cc:46]             registering LB policy factory for \"weighted_round_robin_experimental\"\n",
      "D1012 13:26:37.184718556      13 lb_policy_registry.cc:46]             registering LB policy factory for \"ring_hash_experimental\"\n",
      "D1012 13:26:37.184737469      13 lb_policy_registry.cc:46]             registering LB policy factory for \"grpclb\"\n",
      "D1012 13:26:37.184765814      13 lb_policy_registry.cc:46]             registering LB policy factory for \"rls_experimental\"\n",
      "D1012 13:26:37.184780995      13 lb_policy_registry.cc:46]             registering LB policy factory for \"xds_cluster_manager_experimental\"\n",
      "D1012 13:26:37.184784100      13 lb_policy_registry.cc:46]             registering LB policy factory for \"xds_cluster_impl_experimental\"\n",
      "D1012 13:26:37.184787090      13 lb_policy_registry.cc:46]             registering LB policy factory for \"cds_experimental\"\n",
      "D1012 13:26:37.184794158      13 lb_policy_registry.cc:46]             registering LB policy factory for \"xds_cluster_resolver_experimental\"\n",
      "D1012 13:26:37.184797337      13 lb_policy_registry.cc:46]             registering LB policy factory for \"xds_override_host_experimental\"\n",
      "D1012 13:26:37.184800503      13 lb_policy_registry.cc:46]             registering LB policy factory for \"xds_wrr_locality_experimental\"\n",
      "D1012 13:26:37.184804720      13 certificate_provider_registry.cc:35]  registering certificate provider factory for \"file_watcher\"\n",
      "I1012 13:26:37.188486015      13 socket_utils_common_posix.cc:408]     Disabling AF_INET6 sockets because ::1 is not available.\n",
      "I1012 13:26:37.207037489     168 socket_utils_common_posix.cc:337]     TCP_USER_TIMEOUT is available. TCP_USER_TIMEOUT will be used thereafter\n",
      "E1012 13:26:37.212566503     168 oauth2_credentials.cc:236]            oauth_fetch: UNKNOWN:C-ares status is not ARES_SUCCESS qtype=A name=metadata.google.internal. is_balancer=0: Domain name not found {created_time:\"2023-10-12T13:26:37.212548158+00:00\", grpc_status:2}\n"
     ]
    }
   ],
   "source": [
    "import warnings\n",
    "warnings.filterwarnings('ignore')\n",
    "\n",
    "import numpy as np # linear algebra\n",
    "import pandas as pd # data processing, CSV file I/O (e.g. pd.read_csv)\n",
    "import os\n",
    "import tqdm\n",
    "import tensorflow as tf\n",
    "import matplotlib.pyplot as plt\n",
    "import cv2\n",
    "import re"
   ]
  },
  {
   "cell_type": "markdown",
   "id": "d5dcf556",
   "metadata": {
    "papermill": {
     "duration": 0.004887,
     "end_time": "2023-10-12T13:26:48.010373",
     "exception": false,
     "start_time": "2023-10-12T13:26:48.005486",
     "status": "completed"
    },
    "tags": []
   },
   "source": [
    "# Initializing the TPU"
   ]
  },
  {
   "cell_type": "code",
   "execution_count": 2,
   "id": "7efb224b",
   "metadata": {
    "execution": {
     "iopub.execute_input": "2023-10-12T13:26:48.021821Z",
     "iopub.status.busy": "2023-10-12T13:26:48.021260Z",
     "iopub.status.idle": "2023-10-12T13:26:56.146487Z",
     "shell.execute_reply": "2023-10-12T13:26:56.145529Z"
    },
    "papermill": {
     "duration": 8.141024,
     "end_time": "2023-10-12T13:26:56.156075",
     "exception": false,
     "start_time": "2023-10-12T13:26:48.015051",
     "status": "completed"
    },
    "tags": []
   },
   "outputs": [
    {
     "name": "stdout",
     "output_type": "stream",
     "text": [
      "Running on TPU:  \n",
      "INFO:tensorflow:Deallocate tpu buffers before initializing tpu system.\n",
      "INFO:tensorflow:Initializing the TPU system: local\n",
      "INFO:tensorflow:Finished initializing TPU system.\n"
     ]
    },
    {
     "name": "stderr",
     "output_type": "stream",
     "text": [
      "WARNING:absl:`tf.distribute.experimental.TPUStrategy` is deprecated, please use  the non experimental symbol `tf.distribute.TPUStrategy` instead.\n"
     ]
    },
    {
     "name": "stdout",
     "output_type": "stream",
     "text": [
      "INFO:tensorflow:Found TPU system:\n"
     ]
    },
    {
     "name": "stderr",
     "output_type": "stream",
     "text": [
      "INFO:tensorflow:Found TPU system:\n"
     ]
    },
    {
     "name": "stdout",
     "output_type": "stream",
     "text": [
      "INFO:tensorflow:*** Num TPU Cores: 8\n"
     ]
    },
    {
     "name": "stderr",
     "output_type": "stream",
     "text": [
      "INFO:tensorflow:*** Num TPU Cores: 8\n"
     ]
    },
    {
     "name": "stdout",
     "output_type": "stream",
     "text": [
      "INFO:tensorflow:*** Num TPU Workers: 1\n"
     ]
    },
    {
     "name": "stderr",
     "output_type": "stream",
     "text": [
      "INFO:tensorflow:*** Num TPU Workers: 1\n"
     ]
    },
    {
     "name": "stdout",
     "output_type": "stream",
     "text": [
      "INFO:tensorflow:*** Num TPU Cores Per Worker: 8\n"
     ]
    },
    {
     "name": "stderr",
     "output_type": "stream",
     "text": [
      "INFO:tensorflow:*** Num TPU Cores Per Worker: 8\n"
     ]
    },
    {
     "name": "stdout",
     "output_type": "stream",
     "text": [
      "INFO:tensorflow:*** Available Device: _DeviceAttributes(/job:localhost/replica:0/task:0/device:CPU:0, CPU, 0, 0)\n"
     ]
    },
    {
     "name": "stderr",
     "output_type": "stream",
     "text": [
      "INFO:tensorflow:*** Available Device: _DeviceAttributes(/job:localhost/replica:0/task:0/device:CPU:0, CPU, 0, 0)\n"
     ]
    },
    {
     "name": "stdout",
     "output_type": "stream",
     "text": [
      "INFO:tensorflow:*** Available Device: _DeviceAttributes(/job:localhost/replica:0/task:0/device:TPU:0, TPU, 0, 0)\n"
     ]
    },
    {
     "name": "stderr",
     "output_type": "stream",
     "text": [
      "INFO:tensorflow:*** Available Device: _DeviceAttributes(/job:localhost/replica:0/task:0/device:TPU:0, TPU, 0, 0)\n"
     ]
    },
    {
     "name": "stdout",
     "output_type": "stream",
     "text": [
      "INFO:tensorflow:*** Available Device: _DeviceAttributes(/job:localhost/replica:0/task:0/device:TPU:1, TPU, 0, 0)\n"
     ]
    },
    {
     "name": "stderr",
     "output_type": "stream",
     "text": [
      "INFO:tensorflow:*** Available Device: _DeviceAttributes(/job:localhost/replica:0/task:0/device:TPU:1, TPU, 0, 0)\n"
     ]
    },
    {
     "name": "stdout",
     "output_type": "stream",
     "text": [
      "INFO:tensorflow:*** Available Device: _DeviceAttributes(/job:localhost/replica:0/task:0/device:TPU:2, TPU, 0, 0)\n"
     ]
    },
    {
     "name": "stderr",
     "output_type": "stream",
     "text": [
      "INFO:tensorflow:*** Available Device: _DeviceAttributes(/job:localhost/replica:0/task:0/device:TPU:2, TPU, 0, 0)\n"
     ]
    },
    {
     "name": "stdout",
     "output_type": "stream",
     "text": [
      "INFO:tensorflow:*** Available Device: _DeviceAttributes(/job:localhost/replica:0/task:0/device:TPU:3, TPU, 0, 0)\n"
     ]
    },
    {
     "name": "stderr",
     "output_type": "stream",
     "text": [
      "INFO:tensorflow:*** Available Device: _DeviceAttributes(/job:localhost/replica:0/task:0/device:TPU:3, TPU, 0, 0)\n"
     ]
    },
    {
     "name": "stdout",
     "output_type": "stream",
     "text": [
      "INFO:tensorflow:*** Available Device: _DeviceAttributes(/job:localhost/replica:0/task:0/device:TPU:4, TPU, 0, 0)\n"
     ]
    },
    {
     "name": "stderr",
     "output_type": "stream",
     "text": [
      "INFO:tensorflow:*** Available Device: _DeviceAttributes(/job:localhost/replica:0/task:0/device:TPU:4, TPU, 0, 0)\n"
     ]
    },
    {
     "name": "stdout",
     "output_type": "stream",
     "text": [
      "INFO:tensorflow:*** Available Device: _DeviceAttributes(/job:localhost/replica:0/task:0/device:TPU:5, TPU, 0, 0)\n"
     ]
    },
    {
     "name": "stderr",
     "output_type": "stream",
     "text": [
      "INFO:tensorflow:*** Available Device: _DeviceAttributes(/job:localhost/replica:0/task:0/device:TPU:5, TPU, 0, 0)\n"
     ]
    },
    {
     "name": "stdout",
     "output_type": "stream",
     "text": [
      "INFO:tensorflow:*** Available Device: _DeviceAttributes(/job:localhost/replica:0/task:0/device:TPU:6, TPU, 0, 0)\n"
     ]
    },
    {
     "name": "stderr",
     "output_type": "stream",
     "text": [
      "INFO:tensorflow:*** Available Device: _DeviceAttributes(/job:localhost/replica:0/task:0/device:TPU:6, TPU, 0, 0)\n"
     ]
    },
    {
     "name": "stdout",
     "output_type": "stream",
     "text": [
      "INFO:tensorflow:*** Available Device: _DeviceAttributes(/job:localhost/replica:0/task:0/device:TPU:7, TPU, 0, 0)\n"
     ]
    },
    {
     "name": "stderr",
     "output_type": "stream",
     "text": [
      "INFO:tensorflow:*** Available Device: _DeviceAttributes(/job:localhost/replica:0/task:0/device:TPU:7, TPU, 0, 0)\n"
     ]
    },
    {
     "name": "stdout",
     "output_type": "stream",
     "text": [
      "INFO:tensorflow:*** Available Device: _DeviceAttributes(/job:localhost/replica:0/task:0/device:TPU_SYSTEM:0, TPU_SYSTEM, 0, 0)\n"
     ]
    },
    {
     "name": "stderr",
     "output_type": "stream",
     "text": [
      "INFO:tensorflow:*** Available Device: _DeviceAttributes(/job:localhost/replica:0/task:0/device:TPU_SYSTEM:0, TPU_SYSTEM, 0, 0)\n"
     ]
    },
    {
     "name": "stdout",
     "output_type": "stream",
     "text": [
      "REPLICAS:  8\n"
     ]
    }
   ],
   "source": [
    "# Detect TPU, return appropriate distribution strategy\n",
    "try:\n",
    "    tpu = tf.distribute.cluster_resolver.TPUClusterResolver() \n",
    "    print('Running on TPU: ', tpu.master())\n",
    "except ValueError:\n",
    "    tpu = None\n",
    "\n",
    "if tpu:\n",
    "    tf.config.experimental_connect_to_cluster(tpu)\n",
    "    tf.tpu.experimental.initialize_tpu_system(tpu)\n",
    "    strategy = tf.distribute.experimental.TPUStrategy(tpu)\n",
    "else:\n",
    "    strategy = tf.distribute.get_strategy() \n",
    "\n",
    "print(\"REPLICAS: \", strategy.num_replicas_in_sync)"
   ]
  },
  {
   "cell_type": "markdown",
   "id": "0ff37dac",
   "metadata": {
    "papermill": {
     "duration": 0.00657,
     "end_time": "2023-10-12T13:26:56.169394",
     "exception": false,
     "start_time": "2023-10-12T13:26:56.162824",
     "status": "completed"
    },
    "tags": []
   },
   "source": [
    "# Helper functions to read tfrecord files "
   ]
  },
  {
   "cell_type": "code",
   "execution_count": 3,
   "id": "574881b0",
   "metadata": {
    "execution": {
     "iopub.execute_input": "2023-10-12T13:26:56.183362Z",
     "iopub.status.busy": "2023-10-12T13:26:56.183088Z",
     "iopub.status.idle": "2023-10-12T13:26:56.227138Z",
     "shell.execute_reply": "2023-10-12T13:26:56.226252Z"
    },
    "papermill": {
     "duration": 0.053769,
     "end_time": "2023-10-12T13:26:56.229201",
     "exception": false,
     "start_time": "2023-10-12T13:26:56.175432",
     "status": "completed"
    },
    "tags": []
   },
   "outputs": [],
   "source": [
    "IMAGE_SIZE = [512, 512]\n",
    "GCS_PATH = '/kaggle/input/tpu-getting-started/tfrecords-jpeg-512x512'\n",
    "AUTO = tf.data.experimental.AUTOTUNE\n",
    "\n",
    "TRAINING_FILENAMES = tf.io.gfile.glob(GCS_PATH + '/train/*.tfrec')\n",
    "VALIDATION_FILENAMES = tf.io.gfile.glob(GCS_PATH + '/val/*.tfrec')\n",
    "TEST_FILENAMES = tf.io.gfile.glob(GCS_PATH + '/test/*.tfrec') \n",
    "\n",
    "CLASSES = ['pink primrose',    'hard-leaved pocket orchid', 'canterbury bells', 'sweet pea',     'wild geranium',     'tiger lily',           'moon orchid',              'bird of paradise', 'monkshood',        'globe thistle',         # 00 - 09\n",
    "           'snapdragon',       \"colt's foot\",               'king protea',      'spear thistle', 'yellow iris',       'globe-flower',         'purple coneflower',        'peruvian lily',    'balloon flower',   'giant white arum lily', # 10 - 19\n",
    "           'fire lily',        'pincushion flower',         'fritillary',       'red ginger',    'grape hyacinth',    'corn poppy',           'prince of wales feathers', 'stemless gentian', 'artichoke',        'sweet william',         # 20 - 29\n",
    "           'carnation',        'garden phlox',              'love in the mist', 'cosmos',        'alpine sea holly',  'ruby-lipped cattleya', 'cape flower',              'great masterwort', 'siam tulip',       'lenten rose',           # 30 - 39\n",
    "           'barberton daisy',  'daffodil',                  'sword lily',       'poinsettia',    'bolero deep blue',  'wallflower',           'marigold',                 'buttercup',        'daisy',            'common dandelion',      # 40 - 49\n",
    "           'petunia',          'wild pansy',                'primula',          'sunflower',     'lilac hibiscus',    'bishop of llandaff',   'gaura',                    'geranium',         'orange dahlia',    'pink-yellow dahlia',    # 50 - 59\n",
    "           'cautleya spicata', 'japanese anemone',          'black-eyed susan', 'silverbush',    'californian poppy', 'osteospermum',         'spring crocus',            'iris',             'windflower',       'tree poppy',            # 60 - 69\n",
    "           'gazania',          'azalea',                    'water lily',       'rose',          'thorn apple',       'morning glory',        'passion flower',           'lotus',            'toad lily',        'anthurium',             # 70 - 79\n",
    "           'frangipani',       'clematis',                  'hibiscus',         'columbine',     'desert-rose',       'tree mallow',          'magnolia',                 'cyclamen ',        'watercress',       'canna lily',            # 80 - 89\n",
    "           'hippeastrum ',     'bee balm',                  'pink quill',       'foxglove',      'bougainvillea',     'camellia',             'mallow',                   'mexican petunia',  'bromelia',         'blanket flower',        # 90 - 99\n",
    "           'trumpet creeper',  'blackberry lily',           'common tulip',     'wild rose']                                                                                                                                               # 100 - 102\n",
    "\n",
    "\n",
    "def decode_image(image_data):\n",
    "    image = tf.image.decode_jpeg(image_data, channels=3)\n",
    "    image = tf.cast(image, tf.float32) / 255.0  # convert image to floats in [0, 1] range\n",
    "    image = tf.reshape(image, [*IMAGE_SIZE, 3]) # explicit size needed for TPU\n",
    "    return image\n",
    "\n",
    "def read_labeled_tfrecord(example):\n",
    "    LABELED_TFREC_FORMAT = {\n",
    "        \"image\": tf.io.FixedLenFeature([], tf.string), # tf.string means bytestring\n",
    "        \"class\": tf.io.FixedLenFeature([], tf.int64),  # shape [] means single element\n",
    "    }\n",
    "    example = tf.io.parse_single_example(example, LABELED_TFREC_FORMAT)\n",
    "    image = decode_image(example['image'])\n",
    "    label = tf.cast(example['class'], tf.int32)\n",
    "    return image, label # returns a dataset of (image, label) pairs\n",
    "\n",
    "def read_unlabeled_tfrecord(example):\n",
    "    UNLABELED_TFREC_FORMAT = {\n",
    "        \"image\": tf.io.FixedLenFeature([], tf.string), # tf.string means bytestring\n",
    "        \"id\": tf.io.FixedLenFeature([], tf.string),  # shape [] means single element\n",
    "        # class is missing, this competitions's challenge is to predict flower classes for the test dataset\n",
    "    }\n",
    "    example = tf.io.parse_single_example(example, UNLABELED_TFREC_FORMAT)\n",
    "    image = decode_image(example['image'])\n",
    "    idnum = example['id']\n",
    "    return image, idnum # returns a dataset of image(s)\n",
    "\n",
    "def load_dataset(filenames, labeled=True, ordered=False):\n",
    "    # Read from TFRecords. For optimal performance, reading from multiple files at once and\n",
    "    # disregarding data order. Order does not matter since we will be shuffling the data anyway.\n",
    "\n",
    "    ignore_order = tf.data.Options()\n",
    "    if not ordered:\n",
    "        ignore_order.experimental_deterministic = False # disable order, increase speed\n",
    "\n",
    "    dataset = tf.data.TFRecordDataset(filenames, num_parallel_reads=AUTO) # automatically interleaves reads from multiple files\n",
    "    dataset = dataset.with_options(ignore_order) # uses data as soon as it streams in, rather than in its original order\n",
    "    dataset = dataset.map(read_labeled_tfrecord if labeled else read_unlabeled_tfrecord, num_parallel_calls=AUTO)\n",
    "    # returns a dataset of (image, label) pairs if labeled=True or (image, id) pairs if labeled=False\n",
    "    return dataset"
   ]
  },
  {
   "cell_type": "code",
   "execution_count": 4,
   "id": "72c1ea8f",
   "metadata": {
    "execution": {
     "iopub.execute_input": "2023-10-12T13:26:56.242753Z",
     "iopub.status.busy": "2023-10-12T13:26:56.242472Z",
     "iopub.status.idle": "2023-10-12T13:26:56.252602Z",
     "shell.execute_reply": "2023-10-12T13:26:56.251861Z"
    },
    "papermill": {
     "duration": 0.019024,
     "end_time": "2023-10-12T13:26:56.254199",
     "exception": false,
     "start_time": "2023-10-12T13:26:56.235175",
     "status": "completed"
    },
    "tags": []
   },
   "outputs": [
    {
     "name": "stdout",
     "output_type": "stream",
     "text": [
      "Dataset: 12753 training images, 3712 validation images, 7382 unlabeled test images\n"
     ]
    }
   ],
   "source": [
    "def data_augment(image, label):\n",
    "    # Thanks to the dataset.prefetch(AUTO)\n",
    "    # statement in the next function (below), this happens essentially\n",
    "    # for free on TPU. Data pipeline code is executed on the \"CPU\"\n",
    "    # part of the TPU while the TPU itself is computing gradients.\n",
    "    image = tf.image.random_flip_left_right(image)\n",
    "    image = tf.image.random_saturation(image, 0, 2)\n",
    "    image = tf.image.adjust_contrast(image,1)\n",
    "    image = tf.image.per_image_standardization(image)\n",
    "    return image, label   \n",
    "\n",
    "def get_training_dataset():\n",
    "    dataset = load_dataset(TRAINING_FILENAMES, labeled=True)\n",
    "    dataset = dataset.map(data_augment, num_parallel_calls=AUTO)\n",
    "    dataset = dataset.repeat() # the training dataset must repeat for several epochs\n",
    "    dataset = dataset.shuffle(2048)\n",
    "    dataset = dataset.batch(BATCH_SIZE)\n",
    "    dataset = dataset.prefetch(AUTO) # prefetch next batch while training (autotune prefetch buffer size)\n",
    "    return dataset\n",
    "\n",
    "def get_validation_dataset(ordered=False):\n",
    "    dataset = load_dataset(VALIDATION_FILENAMES, labeled=True, ordered=ordered)\n",
    "    dataset = dataset.batch(BATCH_SIZE)\n",
    "    dataset = dataset.cache()\n",
    "    dataset = dataset.prefetch(AUTO)\n",
    "    return dataset\n",
    "\n",
    "def get_test_dataset(ordered=False):\n",
    "    dataset = load_dataset(TEST_FILENAMES, labeled=False, ordered=ordered)\n",
    "    dataset = dataset.batch(BATCH_SIZE)\n",
    "    dataset = dataset.prefetch(AUTO)\n",
    "    return dataset\n",
    "\n",
    "def count_data_items(filenames):\n",
    "    # the number of data items is written in the name of the .tfrec\n",
    "    # files, i.e. flowers00-230.tfrec = 230 data items\n",
    "    n = [int(re.compile(r\"-([0-9]*)\\.\").search(filename).group(1)) for filename in filenames]\n",
    "    return np.sum(n)\n",
    "\n",
    "NUM_TRAINING_IMAGES = count_data_items(TRAINING_FILENAMES)\n",
    "NUM_VALIDATION_IMAGES = count_data_items(VALIDATION_FILENAMES)\n",
    "NUM_TEST_IMAGES = count_data_items(TEST_FILENAMES)\n",
    "print('Dataset: {} training images, {} validation images, {} unlabeled test images'.format(NUM_TRAINING_IMAGES, NUM_VALIDATION_IMAGES, NUM_TEST_IMAGES))"
   ]
  },
  {
   "cell_type": "markdown",
   "id": "84d6d260",
   "metadata": {
    "papermill": {
     "duration": 0.005889,
     "end_time": "2023-10-12T13:26:56.266391",
     "exception": false,
     "start_time": "2023-10-12T13:26:56.260502",
     "status": "completed"
    },
    "tags": []
   },
   "source": [
    "#### Loading Data"
   ]
  },
  {
   "cell_type": "code",
   "execution_count": 5,
   "id": "c54f2390",
   "metadata": {
    "execution": {
     "iopub.execute_input": "2023-10-12T13:26:56.280355Z",
     "iopub.status.busy": "2023-10-12T13:26:56.280117Z",
     "iopub.status.idle": "2023-10-12T13:26:56.585977Z",
     "shell.execute_reply": "2023-10-12T13:26:56.585149Z"
    },
    "papermill": {
     "duration": 0.314965,
     "end_time": "2023-10-12T13:26:56.587717",
     "exception": false,
     "start_time": "2023-10-12T13:26:56.272752",
     "status": "completed"
    },
    "tags": []
   },
   "outputs": [
    {
     "name": "stdout",
     "output_type": "stream",
     "text": [
      "Training: <_PrefetchDataset element_spec=(TensorSpec(shape=(None, 512, 512, 3), dtype=tf.float32, name=None), TensorSpec(shape=(None,), dtype=tf.int32, name=None))>\n",
      "Validation: <_PrefetchDataset element_spec=(TensorSpec(shape=(None, 512, 512, 3), dtype=tf.float32, name=None), TensorSpec(shape=(None,), dtype=tf.int32, name=None))>\n",
      "Test: <_PrefetchDataset element_spec=(TensorSpec(shape=(None, 512, 512, 3), dtype=tf.float32, name=None), TensorSpec(shape=(None,), dtype=tf.string, name=None))>\n"
     ]
    }
   ],
   "source": [
    "# Define the batch size. This will be 16 with TPU off and 128 (=16*8) with TPU on\n",
    "BATCH_SIZE = 16 * strategy.num_replicas_in_sync\n",
    "\n",
    "ds_train = get_training_dataset()\n",
    "ds_valid = get_validation_dataset()\n",
    "ds_test = get_test_dataset()\n",
    "\n",
    "print(\"Training:\", ds_train)\n",
    "print (\"Validation:\", ds_valid)\n",
    "print(\"Test:\", ds_test)"
   ]
  },
  {
   "cell_type": "markdown",
   "id": "658dbeaf",
   "metadata": {
    "papermill": {
     "duration": 0.007001,
     "end_time": "2023-10-12T13:26:56.600937",
     "exception": false,
     "start_time": "2023-10-12T13:26:56.593936",
     "status": "completed"
    },
    "tags": []
   },
   "source": [
    "# Model"
   ]
  },
  {
   "cell_type": "code",
   "execution_count": 6,
   "id": "8684e280",
   "metadata": {
    "execution": {
     "iopub.execute_input": "2023-10-12T13:26:56.614832Z",
     "iopub.status.busy": "2023-10-12T13:26:56.614548Z",
     "iopub.status.idle": "2023-10-12T13:26:56.620801Z",
     "shell.execute_reply": "2023-10-12T13:26:56.620062Z"
    },
    "papermill": {
     "duration": 0.015444,
     "end_time": "2023-10-12T13:26:56.622418",
     "exception": false,
     "start_time": "2023-10-12T13:26:56.606974",
     "status": "completed"
    },
    "tags": []
   },
   "outputs": [],
   "source": [
    "from tensorflow.keras.models import Sequential\n",
    "from tensorflow.keras.layers import MaxPool2D,Conv2D ,Dense, InputLayer, GlobalMaxPooling2D, Flatten, SeparableConv2D,MaxPooling2D,BatchNormalization, Dropout,SeparableConv2D \n",
    "from tensorflow.keras.callbacks import EarlyStopping, ModelCheckpoint, ReduceLROnPlateau"
   ]
  },
  {
   "cell_type": "markdown",
   "id": "b04222ca",
   "metadata": {
    "papermill": {
     "duration": 0.006037,
     "end_time": "2023-10-12T13:26:56.634631",
     "exception": false,
     "start_time": "2023-10-12T13:26:56.628594",
     "status": "completed"
    },
    "tags": []
   },
   "source": [
    "#### Callbacks and Learning Rate Sceduler"
   ]
  },
  {
   "cell_type": "code",
   "execution_count": 7,
   "id": "0c315ad2",
   "metadata": {
    "execution": {
     "iopub.execute_input": "2023-10-12T13:26:56.648338Z",
     "iopub.status.busy": "2023-10-12T13:26:56.648052Z",
     "iopub.status.idle": "2023-10-12T13:26:56.960101Z",
     "shell.execute_reply": "2023-10-12T13:26:56.959247Z"
    },
    "papermill": {
     "duration": 0.320897,
     "end_time": "2023-10-12T13:26:56.961871",
     "exception": false,
     "start_time": "2023-10-12T13:26:56.640974",
     "status": "completed"
    },
    "tags": []
   },
   "outputs": [
    {
     "name": "stdout",
     "output_type": "stream",
     "text": [
      "Learning rate schedule: 1e-05 to 5e-05 to 1.02e-05\n"
     ]
    },
    {
     "data": {
      "image/png": "[encoded data removed]",
      "text/plain": [
       "<Figure size 640x480 with 1 Axes>"
      ]
     },
     "metadata": {},
     "output_type": "display_data"
    }
   ],
   "source": [
    "EPOCHS = 30\n",
    "# Callback for early stopping\n",
    "early_stopping_callback = EarlyStopping(\n",
    "    monitor='val_loss',\n",
    "    patience=10,\n",
    "    verbose=1,\n",
    "    restore_best_weights=True\n",
    ")\n",
    "\n",
    "# Learning Rate Schedule for Fine Tuning #\n",
    "def exponential_lr(epoch,\n",
    "                   start_lr = 0.00001, min_lr = 0.00001, max_lr = 0.00005,\n",
    "                   rampup_epochs = 5, sustain_epochs = 0,\n",
    "                   exp_decay = 0.8):\n",
    "\n",
    "    def lr(epoch, start_lr, min_lr, max_lr, rampup_epochs, sustain_epochs, exp_decay):\n",
    "        # linear increase from start to rampup_epochs\n",
    "        if epoch < rampup_epochs:\n",
    "            lr = ((max_lr - start_lr) /\n",
    "                  rampup_epochs * epoch + start_lr)\n",
    "        # constant max_lr during sustain_epochs\n",
    "        elif epoch < rampup_epochs + sustain_epochs:\n",
    "            lr = max_lr\n",
    "        # exponential decay towards min_lr\n",
    "        else:\n",
    "            lr = ((max_lr - min_lr) *\n",
    "                  exp_decay**(epoch - rampup_epochs - sustain_epochs) +\n",
    "                  min_lr)\n",
    "        return lr\n",
    "    return lr(epoch,\n",
    "              start_lr,\n",
    "              min_lr,\n",
    "              max_lr,\n",
    "              rampup_epochs,\n",
    "              sustain_epochs,\n",
    "              exp_decay)\n",
    "\n",
    "lr_callback = tf.keras.callbacks.LearningRateScheduler(exponential_lr, verbose=True)\n",
    "\n",
    "rng = [i for i in range(EPOCHS)]\n",
    "y = [exponential_lr(x) for x in rng]\n",
    "plt.plot(rng, y)\n",
    "print(\"Learning rate schedule: {:.3g} to {:.3g} to {:.3g}\".format(y[0], max(y), y[-1]))"
   ]
  },
  {
   "cell_type": "markdown",
   "id": "3876a189",
   "metadata": {
    "papermill": {
     "duration": 0.006501,
     "end_time": "2023-10-12T13:26:56.975381",
     "exception": false,
     "start_time": "2023-10-12T13:26:56.968880",
     "status": "completed"
    },
    "tags": []
   },
   "source": [
    "#### Defining Model"
   ]
  },
  {
   "cell_type": "code",
   "execution_count": 8,
   "id": "08bc150e",
   "metadata": {
    "execution": {
     "iopub.execute_input": "2023-10-12T13:26:56.990501Z",
     "iopub.status.busy": "2023-10-12T13:26:56.989844Z",
     "iopub.status.idle": "2023-10-12T13:27:15.108375Z",
     "shell.execute_reply": "2023-10-12T13:27:15.107263Z"
    },
    "papermill": {
     "duration": 18.129163,
     "end_time": "2023-10-12T13:27:15.111049",
     "exception": false,
     "start_time": "2023-10-12T13:26:56.981886",
     "status": "completed"
    },
    "tags": []
   },
   "outputs": [
    {
     "name": "stdout",
     "output_type": "stream",
     "text": [
      "Downloading data from https://storage.googleapis.com/tensorflow/keras-applications/xception/xception_weights_tf_dim_ordering_tf_kernels_notop.h5\n",
      "83683744/83683744 [==============================] - 1s 0us/step\n"
     ]
    }
   ],
   "source": [
    "with strategy.scope():\n",
    "    pretrained_model = tf.keras.applications.Xception(\n",
    "        weights='imagenet',\n",
    "        include_top=False ,\n",
    "        input_shape=[*IMAGE_SIZE, 3]\n",
    "    )\n",
    "    pretrained_model.trainable = False\n",
    "    \n",
    "    model = Sequential(\n",
    "        [\n",
    "            pretrained_model,\n",
    "            \n",
    "            Flatten(),\n",
    "            Dense(len(CLASSES), activation='softmax')\n",
    "        ]\n",
    "    )\n",
    "    \n",
    "    model.compile(optimizer='adam', loss='sparse_categorical_crossentropy', metrics=['accuracy'])"
   ]
  },
  {
   "cell_type": "code",
   "execution_count": 9,
   "id": "3f70503a",
   "metadata": {
    "execution": {
     "iopub.execute_input": "2023-10-12T13:27:15.128026Z",
     "iopub.status.busy": "2023-10-12T13:27:15.127102Z",
     "iopub.status.idle": "2023-10-12T13:27:15.150941Z",
     "shell.execute_reply": "2023-10-12T13:27:15.150001Z"
    },
    "papermill": {
     "duration": 0.034524,
     "end_time": "2023-10-12T13:27:15.152992",
     "exception": false,
     "start_time": "2023-10-12T13:27:15.118468",
     "status": "completed"
    },
    "tags": []
   },
   "outputs": [
    {
     "name": "stdout",
     "output_type": "stream",
     "text": [
      "Model: \"sequential\"\n",
      "_________________________________________________________________\n",
      " Layer (type)                Output Shape              Param #   \n",
      "=================================================================\n",
      " xception (Functional)       (None, 16, 16, 2048)      20861480  \n",
      "                                                                 \n",
      " flatten (Flatten)           (None, 524288)            0         \n",
      "                                                                 \n",
      " dense (Dense)               (None, 104)               54526056  \n",
      "                                                                 \n",
      "=================================================================\n",
      "Total params: 75,387,536\n",
      "Trainable params: 54,526,056\n",
      "Non-trainable params: 20,861,480\n",
      "_________________________________________________________________\n"
     ]
    }
   ],
   "source": [
    "model.summary()"
   ]
  },
  {
   "cell_type": "markdown",
   "id": "848a9ca7",
   "metadata": {
    "papermill": {
     "duration": 0.008121,
     "end_time": "2023-10-12T13:27:15.169533",
     "exception": false,
     "start_time": "2023-10-12T13:27:15.161412",
     "status": "completed"
    },
    "tags": []
   },
   "source": [
    "#### Training"
   ]
  },
  {
   "cell_type": "code",
   "execution_count": 10,
   "id": "baa16b4f",
   "metadata": {
    "execution": {
     "iopub.execute_input": "2023-10-12T13:27:15.186486Z",
     "iopub.status.busy": "2023-10-12T13:27:15.186199Z",
     "iopub.status.idle": "2023-10-12T13:58:23.539518Z",
     "shell.execute_reply": "2023-10-12T13:58:23.538244Z"
    },
    "papermill": {
     "duration": 1868.365072,
     "end_time": "2023-10-12T13:58:23.542260",
     "exception": false,
     "start_time": "2023-10-12T13:27:15.177188",
     "status": "completed"
    },
    "tags": []
   },
   "outputs": [
    {
     "name": "stdout",
     "output_type": "stream",
     "text": [
      "\n",
      "Epoch 1: LearningRateScheduler setting learning rate to 0.0010000000474974513.\n",
      "Epoch 1/30\n"
     ]
    },
    {
     "name": "stderr",
     "output_type": "stream",
     "text": [
      "2023-10-12 13:27:20.866399: E tensorflow/core/grappler/optimizers/meta_optimizer.cc:954] model_pruner failed: INVALID_ARGUMENT: Graph does not contain terminal node AssignAddVariableOp.\n",
      "2023-10-12 13:27:21.043914: E tensorflow/core/grappler/optimizers/meta_optimizer.cc:954] model_pruner failed: INVALID_ARGUMENT: Graph does not contain terminal node AssignAddVariableOp.\n"
     ]
    },
    {
     "name": "stdout",
     "output_type": "stream",
     "text": [
      "99/99 [==============================] - ETA: 0s - loss: 16.3842 - accuracy: 0.4778"
     ]
    },
    {
     "name": "stderr",
     "output_type": "stream",
     "text": [
      "2023-10-12 13:28:28.605100: E tensorflow/core/grappler/optimizers/meta_optimizer.cc:954] model_pruner failed: INVALID_ARGUMENT: Graph does not contain terminal node AssignAddVariableOp.\n",
      "2023-10-12 13:28:28.800192: E tensorflow/core/grappler/optimizers/meta_optimizer.cc:954] model_pruner failed: INVALID_ARGUMENT: Graph does not contain terminal node AssignAddVariableOp.\n"
     ]
    },
    {
     "name": "stdout",
     "output_type": "stream",
     "text": [
      "99/99 [==============================] - 99s 785ms/step - loss: 16.3842 - accuracy: 0.4778 - val_loss: 9.1238 - val_accuracy: 0.6018 - lr: 0.0010\n",
      "\n",
      "Epoch 2: LearningRateScheduler setting learning rate to 0.0008100000379979611.\n",
      "Epoch 2/30\n",
      "99/99 [==============================] - 62s 627ms/step - loss: 4.1604 - accuracy: 0.7728 - val_loss: 8.0666 - val_accuracy: 0.6638 - lr: 8.1000e-04\n",
      "\n",
      "Epoch 3: LearningRateScheduler setting learning rate to 0.0005060000335611404.\n",
      "Epoch 3/30\n",
      "99/99 [==============================] - 63s 633ms/step - loss: 2.0398 - accuracy: 0.8690 - val_loss: 5.7488 - val_accuracy: 0.7271 - lr: 5.0600e-04\n",
      "\n",
      "Epoch 4: LearningRateScheduler setting learning rate to 0.00023240000449121004.\n",
      "Epoch 4/30\n",
      "99/99 [==============================] - 64s 643ms/step - loss: 0.9703 - accuracy: 0.9240 - val_loss: 5.0065 - val_accuracy: 0.7384 - lr: 2.3240e-04\n",
      "\n",
      "Epoch 5: LearningRateScheduler setting learning rate to 8.648000176530332e-05.\n",
      "Epoch 5/30\n",
      "99/99 [==============================] - 63s 638ms/step - loss: 0.5710 - accuracy: 0.9502 - val_loss: 4.7353 - val_accuracy: 0.7543 - lr: 8.6480e-05\n",
      "\n",
      "Epoch 6: LearningRateScheduler setting learning rate to 5e-05.\n",
      "Epoch 6/30\n",
      "99/99 [==============================] - 60s 607ms/step - loss: 0.3892 - accuracy: 0.9634 - val_loss: 4.7018 - val_accuracy: 0.7557 - lr: 5.0000e-05\n",
      "\n",
      "Epoch 7: LearningRateScheduler setting learning rate to 4.2000000000000004e-05.\n",
      "Epoch 7/30\n",
      "99/99 [==============================] - 60s 604ms/step - loss: 0.3552 - accuracy: 0.9673 - val_loss: 4.6167 - val_accuracy: 0.7586 - lr: 4.2000e-05\n",
      "\n",
      "Epoch 8: LearningRateScheduler setting learning rate to 3.5600000000000005e-05.\n",
      "Epoch 8/30\n",
      "99/99 [==============================] - 60s 603ms/step - loss: 0.2725 - accuracy: 0.9724 - val_loss: 4.6189 - val_accuracy: 0.7527 - lr: 3.5600e-05\n",
      "\n",
      "Epoch 9: LearningRateScheduler setting learning rate to 3.0480000000000006e-05.\n",
      "Epoch 9/30\n",
      "99/99 [==============================] - 60s 611ms/step - loss: 0.2379 - accuracy: 0.9731 - val_loss: 4.5759 - val_accuracy: 0.7551 - lr: 3.0480e-05\n",
      "\n",
      "Epoch 10: LearningRateScheduler setting learning rate to 2.6384000000000004e-05.\n",
      "Epoch 10/30\n",
      "99/99 [==============================] - 60s 609ms/step - loss: 0.2252 - accuracy: 0.9758 - val_loss: 4.5617 - val_accuracy: 0.7586 - lr: 2.6384e-05\n",
      "\n",
      "Epoch 11: LearningRateScheduler setting learning rate to 2.3107200000000005e-05.\n",
      "Epoch 11/30\n",
      "99/99 [==============================] - 60s 609ms/step - loss: 0.2111 - accuracy: 0.9765 - val_loss: 4.5454 - val_accuracy: 0.7581 - lr: 2.3107e-05\n",
      "\n",
      "Epoch 12: LearningRateScheduler setting learning rate to 2.0485760000000004e-05.\n",
      "Epoch 12/30\n",
      "99/99 [==============================] - 60s 610ms/step - loss: 0.1768 - accuracy: 0.9806 - val_loss: 4.5019 - val_accuracy: 0.7619 - lr: 2.0486e-05\n",
      "\n",
      "Epoch 13: LearningRateScheduler setting learning rate to 1.8388608000000004e-05.\n",
      "Epoch 13/30\n",
      "99/99 [==============================] - 61s 613ms/step - loss: 0.1743 - accuracy: 0.9801 - val_loss: 4.4987 - val_accuracy: 0.7605 - lr: 1.8389e-05\n",
      "\n",
      "Epoch 14: LearningRateScheduler setting learning rate to 1.6710886400000004e-05.\n",
      "Epoch 14/30\n",
      "99/99 [==============================] - 59s 597ms/step - loss: 0.1747 - accuracy: 0.9803 - val_loss: 4.5006 - val_accuracy: 0.7635 - lr: 1.6711e-05\n",
      "\n",
      "Epoch 15: LearningRateScheduler setting learning rate to 1.5368709120000003e-05.\n",
      "Epoch 15/30\n",
      "99/99 [==============================] - 60s 608ms/step - loss: 0.1523 - accuracy: 0.9812 - val_loss: 4.5165 - val_accuracy: 0.7597 - lr: 1.5369e-05\n",
      "\n",
      "Epoch 16: LearningRateScheduler setting learning rate to 1.4294967296000005e-05.\n",
      "Epoch 16/30\n",
      "99/99 [==============================] - 61s 622ms/step - loss: 0.1501 - accuracy: 0.9844 - val_loss: 4.4802 - val_accuracy: 0.7621 - lr: 1.4295e-05\n",
      "\n",
      "Epoch 17: LearningRateScheduler setting learning rate to 1.3435973836800004e-05.\n",
      "Epoch 17/30\n",
      "99/99 [==============================] - 61s 613ms/step - loss: 0.1418 - accuracy: 0.9839 - val_loss: 4.4495 - val_accuracy: 0.7621 - lr: 1.3436e-05\n",
      "\n",
      "Epoch 18: LearningRateScheduler setting learning rate to 1.2748779069440003e-05.\n",
      "Epoch 18/30\n",
      "99/99 [==============================] - 60s 610ms/step - loss: 0.1403 - accuracy: 0.9821 - val_loss: 4.4847 - val_accuracy: 0.7619 - lr: 1.2749e-05\n",
      "\n",
      "Epoch 19: LearningRateScheduler setting learning rate to 1.2199023255552003e-05.\n",
      "Epoch 19/30\n",
      "99/99 [==============================] - 61s 618ms/step - loss: 0.1353 - accuracy: 0.9848 - val_loss: 4.4425 - val_accuracy: 0.7643 - lr: 1.2199e-05\n",
      "\n",
      "Epoch 20: LearningRateScheduler setting learning rate to 1.1759218604441602e-05.\n",
      "Epoch 20/30\n",
      "99/99 [==============================] - 61s 615ms/step - loss: 0.1521 - accuracy: 0.9836 - val_loss: 4.4341 - val_accuracy: 0.7648 - lr: 1.1759e-05\n",
      "\n",
      "Epoch 21: LearningRateScheduler setting learning rate to 1.1407374883553282e-05.\n",
      "Epoch 21/30\n",
      "99/99 [==============================] - 62s 624ms/step - loss: 0.1324 - accuracy: 0.9855 - val_loss: 4.4275 - val_accuracy: 0.7651 - lr: 1.1407e-05\n",
      "\n",
      "Epoch 22: LearningRateScheduler setting learning rate to 1.1125899906842627e-05.\n",
      "Epoch 22/30\n",
      "99/99 [==============================] - 61s 623ms/step - loss: 0.1167 - accuracy: 0.9861 - val_loss: 4.4013 - val_accuracy: 0.7651 - lr: 1.1126e-05\n",
      "\n",
      "Epoch 23: LearningRateScheduler setting learning rate to 1.0900719925474101e-05.\n",
      "Epoch 23/30\n",
      "99/99 [==============================] - 61s 613ms/step - loss: 0.1097 - accuracy: 0.9858 - val_loss: 4.4197 - val_accuracy: 0.7654 - lr: 1.0901e-05\n",
      "\n",
      "Epoch 24: LearningRateScheduler setting learning rate to 1.0720575940379282e-05.\n",
      "Epoch 24/30\n",
      "99/99 [==============================] - 61s 616ms/step - loss: 0.1033 - accuracy: 0.9860 - val_loss: 4.4191 - val_accuracy: 0.7675 - lr: 1.0721e-05\n",
      "\n",
      "Epoch 25: LearningRateScheduler setting learning rate to 1.0576460752303425e-05.\n",
      "Epoch 25/30\n",
      "99/99 [==============================] - 60s 612ms/step - loss: 0.1026 - accuracy: 0.9893 - val_loss: 4.4061 - val_accuracy: 0.7659 - lr: 1.0576e-05\n",
      "\n",
      "Epoch 26: LearningRateScheduler setting learning rate to 1.046116860184274e-05.\n",
      "Epoch 26/30\n",
      "99/99 [==============================] - 61s 620ms/step - loss: 0.1034 - accuracy: 0.9878 - val_loss: 4.4348 - val_accuracy: 0.7667 - lr: 1.0461e-05\n",
      "\n",
      "Epoch 27: LearningRateScheduler setting learning rate to 1.0368934881474192e-05.\n",
      "Epoch 27/30\n",
      "99/99 [==============================] - 61s 617ms/step - loss: 0.0865 - accuracy: 0.9878 - val_loss: 4.4146 - val_accuracy: 0.7654 - lr: 1.0369e-05\n",
      "\n",
      "Epoch 28: LearningRateScheduler setting learning rate to 1.0295147905179355e-05.\n",
      "Epoch 28/30\n",
      "99/99 [==============================] - 61s 620ms/step - loss: 0.0994 - accuracy: 0.9891 - val_loss: 4.4257 - val_accuracy: 0.7659 - lr: 1.0295e-05\n",
      "\n",
      "Epoch 29: LearningRateScheduler setting learning rate to 1.0236118324143484e-05.\n",
      "Epoch 29/30\n",
      "99/99 [==============================] - 61s 619ms/step - loss: 0.0749 - accuracy: 0.9894 - val_loss: 4.4670 - val_accuracy: 0.7610 - lr: 1.0236e-05\n",
      "\n",
      "Epoch 30: LearningRateScheduler setting learning rate to 1.0188894659314786e-05.\n",
      "Epoch 30/30\n",
      "99/99 [==============================] - 62s 625ms/step - loss: 0.0862 - accuracy: 0.9897 - val_loss: 4.4201 - val_accuracy: 0.7624 - lr: 1.0189e-05\n"
     ]
    }
   ],
   "source": [
    "EPOCHS = 30\n",
    "STEPS_PER_EPOCHS = NUM_TRAINING_IMAGES // BATCH_SIZE\n",
    "CALLBACKS = [early_stopping_callback, lr_callback]\n",
    "\n",
    "hist = model.fit(ds_train, \n",
    "                 validation_data= ds_valid,\n",
    "                 steps_per_epoch=STEPS_PER_EPOCHS ,\n",
    "                 epochs=EPOCHS,\n",
    "                 callbacks= CALLBACKS\n",
    "                )"
   ]
  },
  {
   "cell_type": "code",
   "execution_count": 11,
   "id": "86f2c7fe",
   "metadata": {
    "_kg_hide-input": false,
    "execution": {
     "iopub.execute_input": "2023-10-12T13:58:23.880195Z",
     "iopub.status.busy": "2023-10-12T13:58:23.879847Z",
     "iopub.status.idle": "2023-10-12T13:58:25.353398Z",
     "shell.execute_reply": "2023-10-12T13:58:25.352456Z"
    },
    "papermill": {
     "duration": 1.643369,
     "end_time": "2023-10-12T13:58:25.355204",
     "exception": false,
     "start_time": "2023-10-12T13:58:23.711835",
     "status": "completed"
    },
    "tags": []
   },
   "outputs": [
    {
     "data": {
      "image/png": "[encoded data removed]",
      "text/plain": [
       "<Figure size 2000x600 with 2 Axes>"
      ]
     },
     "metadata": {},
     "output_type": "display_data"
    }
   ],
   "source": [
    "# Create a figure with two subplots in two columns\n",
    "fig, (ax1, ax2) = plt.subplots(1, 2, figsize=(20, 6))\n",
    "\n",
    "# Plot loss in the first subplot\n",
    "ax1.plot(hist.history['loss'], label='Training Loss', color='blue')\n",
    "ax1.plot(hist.history['val_loss'], label='Validation Loss', color='red')\n",
    "ax1.set_xlabel('Epochs')\n",
    "ax1.set_ylabel('Loss')\n",
    "ax1.set_title('Loss')\n",
    "ax1.legend()\n",
    "\n",
    "# Plot accuracy in the second subplot\n",
    "ax2.plot(hist.history['accuracy'], label='Training Accuracy', color='green')\n",
    "ax2.plot(hist.history['val_accuracy'], label='Validation Accuracy', color='orange')\n",
    "ax2.set_xlabel('Epochs')\n",
    "ax2.set_ylabel('Accuracy')\n",
    "ax2.set_title('Accuracy')\n",
    "ax2.legend()\n",
    "\n",
    "# Show the plots\n",
    "plt.tight_layout()\n",
    "plt.savefig('my_figure.png', dpi=300)\n",
    "plt.show()"
   ]
  },
  {
   "cell_type": "markdown",
   "id": "0443e51b",
   "metadata": {
    "papermill": {
     "duration": 0.166215,
     "end_time": "2023-10-12T13:58:25.726316",
     "exception": false,
     "start_time": "2023-10-12T13:58:25.560101",
     "status": "completed"
    },
    "tags": []
   },
   "source": [
    "# Submission"
   ]
  },
  {
   "cell_type": "code",
   "execution_count": 12,
   "id": "81d1d685",
   "metadata": {
    "execution": {
     "iopub.execute_input": "2023-10-12T13:58:26.063366Z",
     "iopub.status.busy": "2023-10-12T13:58:26.062608Z",
     "iopub.status.idle": "2023-10-12T13:58:26.068831Z",
     "shell.execute_reply": "2023-10-12T13:58:26.067965Z"
    },
    "papermill": {
     "duration": 0.177642,
     "end_time": "2023-10-12T13:58:26.070545",
     "exception": false,
     "start_time": "2023-10-12T13:58:25.892903",
     "status": "completed"
    },
    "tags": []
   },
   "outputs": [],
   "source": [
    "def predict_ensemble(dataset):\n",
    "    print('Calculating predictions...')\n",
    "    images_ds = dataset.map(lambda image, idnum: image)\n",
    "    \n",
    "    p = model.predict(images_ds,verbose=0)\n",
    "    pred = np.argmax(p,axis=-1)\n",
    "    \n",
    "    test_id_ds = dataset.map(lambda image, id: id).unbatch()\n",
    "    test_ids = next(iter(test_id_ds.batch(NUM_TEST_IMAGES))).numpy().astype('U')\n",
    "    \n",
    "    submit_df = pd.DataFrame({'id': test_ids, 'label': pred})\n",
    "    \n",
    "    return submit_df"
   ]
  },
  {
   "cell_type": "code",
   "execution_count": 13,
   "id": "ea8551ff",
   "metadata": {
    "execution": {
     "iopub.execute_input": "2023-10-12T13:58:26.410176Z",
     "iopub.status.busy": "2023-10-12T13:58:26.409726Z",
     "iopub.status.idle": "2023-10-12T13:59:23.941425Z",
     "shell.execute_reply": "2023-10-12T13:59:23.940045Z"
    },
    "papermill": {
     "duration": 57.707046,
     "end_time": "2023-10-12T13:59:23.943989",
     "exception": false,
     "start_time": "2023-10-12T13:58:26.236943",
     "status": "completed"
    },
    "tags": []
   },
   "outputs": [
    {
     "name": "stdout",
     "output_type": "stream",
     "text": [
      "Calculating predictions...\n"
     ]
    },
    {
     "name": "stderr",
     "output_type": "stream",
     "text": [
      "2023-10-12 13:58:28.527287: E tensorflow/core/grappler/optimizers/meta_optimizer.cc:954] model_pruner failed: INVALID_ARGUMENT: Graph does not contain terminal node AssignAddVariableOp.\n",
      "2023-10-12 13:58:28.678441: E tensorflow/core/grappler/optimizers/meta_optimizer.cc:954] model_pruner failed: INVALID_ARGUMENT: Graph does not contain terminal node AssignAddVariableOp.\n"
     ]
    }
   ],
   "source": [
    "test_dataset = get_test_dataset(ordered=True)\n",
    "submit_df = predict_ensemble(test_dataset)"
   ]
  },
  {
   "cell_type": "code",
   "execution_count": 14,
   "id": "1b37538a",
   "metadata": {
    "execution": {
     "iopub.execute_input": "2023-10-12T13:59:24.282708Z",
     "iopub.status.busy": "2023-10-12T13:59:24.282313Z",
     "iopub.status.idle": "2023-10-12T13:59:24.297846Z",
     "shell.execute_reply": "2023-10-12T13:59:24.296792Z"
    },
    "papermill": {
     "duration": 0.185763,
     "end_time": "2023-10-12T13:59:24.299467",
     "exception": false,
     "start_time": "2023-10-12T13:59:24.113704",
     "status": "completed"
    },
    "tags": []
   },
   "outputs": [
    {
     "data": {
      "text/html": [
       "<div>\n",
       "<style scoped>\n",
       "    .dataframe tbody tr th:only-of-type {\n",
       "        vertical-align: middle;\n",
       "    }\n",
       "\n",
       "    .dataframe tbody tr th {\n",
       "        vertical-align: top;\n",
       "    }\n",
       "\n",
       "    .dataframe thead th {\n",
       "        text-align: right;\n",
       "    }\n",
       "</style>\n",
       "<table border=\"1\" class=\"dataframe\">\n",
       "  <thead>\n",
       "    <tr style=\"text-align: right;\">\n",
       "      <th></th>\n",
       "      <th>id</th>\n",
       "      <th>label</th>\n",
       "    </tr>\n",
       "  </thead>\n",
       "  <tbody>\n",
       "    <tr>\n",
       "      <th>0</th>\n",
       "      <td>0b9afbdf2</td>\n",
       "      <td>67</td>\n",
       "    </tr>\n",
       "    <tr>\n",
       "      <th>1</th>\n",
       "      <td>c37a6f3e9</td>\n",
       "      <td>96</td>\n",
       "    </tr>\n",
       "    <tr>\n",
       "      <th>2</th>\n",
       "      <td>00e4f514e</td>\n",
       "      <td>103</td>\n",
       "    </tr>\n",
       "    <tr>\n",
       "      <th>3</th>\n",
       "      <td>1c4736dea</td>\n",
       "      <td>28</td>\n",
       "    </tr>\n",
       "    <tr>\n",
       "      <th>4</th>\n",
       "      <td>252d840db</td>\n",
       "      <td>67</td>\n",
       "    </tr>\n",
       "    <tr>\n",
       "      <th>...</th>\n",
       "      <td>...</td>\n",
       "      <td>...</td>\n",
       "    </tr>\n",
       "    <tr>\n",
       "      <th>7377</th>\n",
       "      <td>f65475a24</td>\n",
       "      <td>48</td>\n",
       "    </tr>\n",
       "    <tr>\n",
       "      <th>7378</th>\n",
       "      <td>9b9c0e574</td>\n",
       "      <td>94</td>\n",
       "    </tr>\n",
       "    <tr>\n",
       "      <th>7379</th>\n",
       "      <td>298ade3a4</td>\n",
       "      <td>49</td>\n",
       "    </tr>\n",
       "    <tr>\n",
       "      <th>7380</th>\n",
       "      <td>8361401fa</td>\n",
       "      <td>45</td>\n",
       "    </tr>\n",
       "    <tr>\n",
       "      <th>7381</th>\n",
       "      <td>e46998f4d</td>\n",
       "      <td>80</td>\n",
       "    </tr>\n",
       "  </tbody>\n",
       "</table>\n",
       "<p>7382 rows × 2 columns</p>\n",
       "</div>"
      ],
      "text/plain": [
       "             id  label\n",
       "0     0b9afbdf2     67\n",
       "1     c37a6f3e9     96\n",
       "2     00e4f514e    103\n",
       "3     1c4736dea     28\n",
       "4     252d840db     67\n",
       "...         ...    ...\n",
       "7377  f65475a24     48\n",
       "7378  9b9c0e574     94\n",
       "7379  298ade3a4     49\n",
       "7380  8361401fa     45\n",
       "7381  e46998f4d     80\n",
       "\n",
       "[7382 rows x 2 columns]"
      ]
     },
     "execution_count": 14,
     "metadata": {},
     "output_type": "execute_result"
    }
   ],
   "source": [
    "submit_df"
   ]
  },
  {
   "cell_type": "code",
   "execution_count": 15,
   "id": "c2cc0ee3",
   "metadata": {
    "execution": {
     "iopub.execute_input": "2023-10-12T13:59:24.667540Z",
     "iopub.status.busy": "2023-10-12T13:59:24.667155Z",
     "iopub.status.idle": "2023-10-12T13:59:24.685764Z",
     "shell.execute_reply": "2023-10-12T13:59:24.684714Z"
    },
    "papermill": {
     "duration": 0.221978,
     "end_time": "2023-10-12T13:59:24.687715",
     "exception": false,
     "start_time": "2023-10-12T13:59:24.465737",
     "status": "completed"
    },
    "tags": []
   },
   "outputs": [],
   "source": [
    "submit_df.to_csv('submission.csv', index=False)"
   ]
  }
 ],
 "metadata": {
  "kernelspec": {
   "display_name": "Python 3",
   "language": "python",
   "name": "python3"
  },
  "language_info": {
   "codemirror_mode": {
    "name": "ipython",
    "version": 3
   },
   "file_extension": ".py",
   "mimetype": "text/x-python",
   "name": "python",
   "nbconvert_exporter": "python",
   "pygments_lexer": "ipython3",
   "version": "3.8.17"
  },
  "papermill": {
   "default_parameters": {},
   "duration": 2011.644506,
   "end_time": "2023-10-12T13:59:33.302620",
   "environment_variables": {},
   "exception": null,
   "input_path": "__notebook__.ipynb",
   "output_path": "__notebook__.ipynb",
   "parameters": {},
   "start_time": "2023-10-12T13:26:01.658114",
   "version": "2.4.0"
  }
 },
 "nbformat": 4,
 "nbformat_minor": 5
}
